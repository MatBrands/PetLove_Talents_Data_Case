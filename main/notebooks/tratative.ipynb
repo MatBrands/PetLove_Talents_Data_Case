{
 "cells": [
  {
   "attachments": {},
   "cell_type": "markdown",
   "metadata": {},
   "source": [
    "# Pré processamento dos dados"
   ]
  },
  {
   "attachments": {},
   "cell_type": "markdown",
   "metadata": {},
   "source": [
    "## Imports"
   ]
  },
  {
   "cell_type": "code",
   "execution_count": 174,
   "metadata": {},
   "outputs": [],
   "source": [
    "import numpy as np\n",
    "import pandas as pd"
   ]
  },
  {
   "attachments": {},
   "cell_type": "markdown",
   "metadata": {},
   "source": [
    "## Análise superficial dos dados"
   ]
  },
  {
   "cell_type": "code",
   "execution_count": 175,
   "metadata": {},
   "outputs": [
    {
     "data": {
      "text/html": [
       "<div>\n",
       "<style scoped>\n",
       "    .dataframe tbody tr th:only-of-type {\n",
       "        vertical-align: middle;\n",
       "    }\n",
       "\n",
       "    .dataframe tbody tr th {\n",
       "        vertical-align: top;\n",
       "    }\n",
       "\n",
       "    .dataframe thead th {\n",
       "        text-align: right;\n",
       "    }\n",
       "</style>\n",
       "<table border=\"1\" class=\"dataframe\">\n",
       "  <thead>\n",
       "    <tr style=\"text-align: right;\">\n",
       "      <th></th>\n",
       "      <th>id</th>\n",
       "      <th>created_at</th>\n",
       "      <th>updated_at</th>\n",
       "      <th>deleted_at</th>\n",
       "      <th>name_hash</th>\n",
       "      <th>email_hash</th>\n",
       "      <th>address_hash</th>\n",
       "      <th>birth_date</th>\n",
       "      <th>status</th>\n",
       "      <th>version</th>\n",
       "      <th>city</th>\n",
       "      <th>state</th>\n",
       "      <th>neighborhood</th>\n",
       "      <th>last_date_purchase</th>\n",
       "      <th>average_ticket</th>\n",
       "      <th>items_quantity</th>\n",
       "      <th>all_revenue</th>\n",
       "      <th>all_orders</th>\n",
       "      <th>recency</th>\n",
       "      <th>marketing_source</th>\n",
       "    </tr>\n",
       "  </thead>\n",
       "  <tbody>\n",
       "    <tr>\n",
       "      <th>2817</th>\n",
       "      <td>bfbe2716-b041-4e3a-99cd-223c520c7d6a</td>\n",
       "      <td>05/19/19 05:49 PM</td>\n",
       "      <td>01/13/21 11:23 AM</td>\n",
       "      <td>NaN</td>\n",
       "      <td>85c59c42c550591dfce25694d48a5084</td>\n",
       "      <td>a108dacb1da041ec99b4dfde8a4e4e9c</td>\n",
       "      <td>7b0cc3e8eba707ef798978556d444d6f</td>\n",
       "      <td>12/30/89 12:00 AM</td>\n",
       "      <td>paused</td>\n",
       "      <td>5.28.11</td>\n",
       "      <td>da Mota Paulista</td>\n",
       "      <td>MT</td>\n",
       "      <td>Custodinha</td>\n",
       "      <td>01/13/21 11:23 AM</td>\n",
       "      <td>224.072926</td>\n",
       "      <td>7</td>\n",
       "      <td>1792.583406</td>\n",
       "      <td>8</td>\n",
       "      <td>36</td>\n",
       "      <td>organic_search</td>\n",
       "    </tr>\n",
       "    <tr>\n",
       "      <th>3076</th>\n",
       "      <td>3bae5c13-7205-4a26-b91f-a67cf8c898cd</td>\n",
       "      <td>07/25/17 07:19 PM</td>\n",
       "      <td>01/17/21 11:23 AM</td>\n",
       "      <td>NaN</td>\n",
       "      <td>f751e097bd997d0486526a436c3c31ab</td>\n",
       "      <td>e59b58348ffe62d14094d4793194998c</td>\n",
       "      <td>bd8075dd288230da947124a48e6b057c</td>\n",
       "      <td>03/02/60 12:00 AM</td>\n",
       "      <td>active</td>\n",
       "      <td>4.41.11</td>\n",
       "      <td>Aragão do Norte</td>\n",
       "      <td>MS</td>\n",
       "      <td>Nossa Senhora Do Rosário</td>\n",
       "      <td>01/17/21 11:23 AM</td>\n",
       "      <td>212.575042</td>\n",
       "      <td>2</td>\n",
       "      <td>1275.450253</td>\n",
       "      <td>6</td>\n",
       "      <td>32</td>\n",
       "      <td>telegram_whatsapp</td>\n",
       "    </tr>\n",
       "    <tr>\n",
       "      <th>3195</th>\n",
       "      <td>dcbb7f4d-2c62-4605-aec3-6e33e17864da</td>\n",
       "      <td>11/25/17 07:36 AM</td>\n",
       "      <td>01/12/21 11:23 AM</td>\n",
       "      <td>NaN</td>\n",
       "      <td>dc365e619a4486d28b7452cebe98f21f</td>\n",
       "      <td>00136780ba5b47b3a31843ebfae1e70f</td>\n",
       "      <td>6b77680ca20c8de19d1ecc9cac62fe11</td>\n",
       "      <td>08/30/80 12:00 AM</td>\n",
       "      <td>paused</td>\n",
       "      <td>4.27.6</td>\n",
       "      <td>da Cruz</td>\n",
       "      <td>MA</td>\n",
       "      <td>Vila São Gabriel Jacui</td>\n",
       "      <td>01/12/21 11:23 AM</td>\n",
       "      <td>221.845328</td>\n",
       "      <td>12</td>\n",
       "      <td>443.690656</td>\n",
       "      <td>2</td>\n",
       "      <td>37</td>\n",
       "      <td>organic_search</td>\n",
       "    </tr>\n",
       "    <tr>\n",
       "      <th>5901</th>\n",
       "      <td>063acf07-160c-403f-81ea-7c316254834d</td>\n",
       "      <td>11/18/20 08:15 AM</td>\n",
       "      <td>01/18/21 11:23 AM</td>\n",
       "      <td>NaN</td>\n",
       "      <td>65b938adc26e49f057f68aa9011049c1</td>\n",
       "      <td>0131afaf559c21fac1413058ccbb2fe7</td>\n",
       "      <td>1c153a59caa3efd137bd7ef2e9ae68a1</td>\n",
       "      <td>10/26/41 12:00 AM</td>\n",
       "      <td>paused</td>\n",
       "      <td>3.5.8</td>\n",
       "      <td>Vieira de Araújo</td>\n",
       "      <td>AP</td>\n",
       "      <td>Vila Antena</td>\n",
       "      <td>01/18/21 11:23 AM</td>\n",
       "      <td>258.875901</td>\n",
       "      <td>8</td>\n",
       "      <td>517.751803</td>\n",
       "      <td>2</td>\n",
       "      <td>31</td>\n",
       "      <td>organic_search</td>\n",
       "    </tr>\n",
       "    <tr>\n",
       "      <th>6584</th>\n",
       "      <td>6ffd49de-6251-42d2-89cd-e5ce4dbbe1de</td>\n",
       "      <td>10/16/17 02:32 AM</td>\n",
       "      <td>01/12/21 11:23 AM</td>\n",
       "      <td>NaN</td>\n",
       "      <td>fd05b73c69e3bbc0c35f5084184bfecd</td>\n",
       "      <td>4f6c055cbfbf359601d1ed29848b3deb</td>\n",
       "      <td>bc35c776cdce4b17979765177ac0ba34</td>\n",
       "      <td>01/16/42 12:00 AM</td>\n",
       "      <td>active</td>\n",
       "      <td>2.23.11</td>\n",
       "      <td>da Rocha</td>\n",
       "      <td>MS</td>\n",
       "      <td>Minas Brasil</td>\n",
       "      <td>01/12/21 11:23 AM</td>\n",
       "      <td>217.478198</td>\n",
       "      <td>8</td>\n",
       "      <td>869.912791</td>\n",
       "      <td>4</td>\n",
       "      <td>37</td>\n",
       "      <td>paid_search</td>\n",
       "    </tr>\n",
       "  </tbody>\n",
       "</table>\n",
       "</div>"
      ],
      "text/plain": [
       "                                        id         created_at   \n",
       "2817  bfbe2716-b041-4e3a-99cd-223c520c7d6a  05/19/19 05:49 PM  \\\n",
       "3076  3bae5c13-7205-4a26-b91f-a67cf8c898cd  07/25/17 07:19 PM   \n",
       "3195  dcbb7f4d-2c62-4605-aec3-6e33e17864da  11/25/17 07:36 AM   \n",
       "5901  063acf07-160c-403f-81ea-7c316254834d  11/18/20 08:15 AM   \n",
       "6584  6ffd49de-6251-42d2-89cd-e5ce4dbbe1de  10/16/17 02:32 AM   \n",
       "\n",
       "             updated_at deleted_at                         name_hash   \n",
       "2817  01/13/21 11:23 AM        NaN  85c59c42c550591dfce25694d48a5084  \\\n",
       "3076  01/17/21 11:23 AM        NaN  f751e097bd997d0486526a436c3c31ab   \n",
       "3195  01/12/21 11:23 AM        NaN  dc365e619a4486d28b7452cebe98f21f   \n",
       "5901  01/18/21 11:23 AM        NaN  65b938adc26e49f057f68aa9011049c1   \n",
       "6584  01/12/21 11:23 AM        NaN  fd05b73c69e3bbc0c35f5084184bfecd   \n",
       "\n",
       "                            email_hash                      address_hash   \n",
       "2817  a108dacb1da041ec99b4dfde8a4e4e9c  7b0cc3e8eba707ef798978556d444d6f  \\\n",
       "3076  e59b58348ffe62d14094d4793194998c  bd8075dd288230da947124a48e6b057c   \n",
       "3195  00136780ba5b47b3a31843ebfae1e70f  6b77680ca20c8de19d1ecc9cac62fe11   \n",
       "5901  0131afaf559c21fac1413058ccbb2fe7  1c153a59caa3efd137bd7ef2e9ae68a1   \n",
       "6584  4f6c055cbfbf359601d1ed29848b3deb  bc35c776cdce4b17979765177ac0ba34   \n",
       "\n",
       "             birth_date  status  version               city state   \n",
       "2817  12/30/89 12:00 AM  paused  5.28.11   da Mota Paulista    MT  \\\n",
       "3076  03/02/60 12:00 AM  active  4.41.11    Aragão do Norte    MS   \n",
       "3195  08/30/80 12:00 AM  paused   4.27.6            da Cruz    MA   \n",
       "5901  10/26/41 12:00 AM  paused    3.5.8   Vieira de Araújo    AP   \n",
       "6584  01/16/42 12:00 AM  active  2.23.11           da Rocha    MS   \n",
       "\n",
       "                  neighborhood last_date_purchase  average_ticket   \n",
       "2817                Custodinha  01/13/21 11:23 AM      224.072926  \\\n",
       "3076  Nossa Senhora Do Rosário  01/17/21 11:23 AM      212.575042   \n",
       "3195    Vila São Gabriel Jacui  01/12/21 11:23 AM      221.845328   \n",
       "5901               Vila Antena  01/18/21 11:23 AM      258.875901   \n",
       "6584              Minas Brasil  01/12/21 11:23 AM      217.478198   \n",
       "\n",
       "      items_quantity  all_revenue  all_orders  recency   marketing_source  \n",
       "2817               7  1792.583406           8       36     organic_search  \n",
       "3076               2  1275.450253           6       32  telegram_whatsapp  \n",
       "3195              12   443.690656           2       37     organic_search  \n",
       "5901               8   517.751803           2       31     organic_search  \n",
       "6584               8   869.912791           4       37        paid_search  "
      ]
     },
     "execution_count": 175,
     "metadata": {},
     "output_type": "execute_result"
    }
   ],
   "source": [
    "df = pd.read_csv('../datasets/raw/data-test-analytics.csv')\n",
    "df.sample(5)"
   ]
  },
  {
   "attachments": {},
   "cell_type": "markdown",
   "metadata": {},
   "source": [
    "Podemos otimizar o uso de memória do dataframe, convertendo as colunas."
   ]
  },
  {
   "cell_type": "code",
   "execution_count": 176,
   "metadata": {},
   "outputs": [
    {
     "name": "stdout",
     "output_type": "stream",
     "text": [
      "<class 'pandas.core.frame.DataFrame'>\n",
      "RangeIndex: 10000 entries, 0 to 9999\n",
      "Data columns (total 20 columns):\n",
      " #   Column              Non-Null Count  Dtype  \n",
      "---  ------              --------------  -----  \n",
      " 0   id                  10000 non-null  object \n",
      " 1   created_at          10000 non-null  object \n",
      " 2   updated_at          10000 non-null  object \n",
      " 3   deleted_at          505 non-null    object \n",
      " 4   name_hash           10000 non-null  object \n",
      " 5   email_hash          10000 non-null  object \n",
      " 6   address_hash        10000 non-null  object \n",
      " 7   birth_date          10000 non-null  object \n",
      " 8   status              10000 non-null  object \n",
      " 9   version             10000 non-null  object \n",
      " 10  city                10000 non-null  object \n",
      " 11  state               10000 non-null  object \n",
      " 12  neighborhood        10000 non-null  object \n",
      " 13  last_date_purchase  10000 non-null  object \n",
      " 14  average_ticket      10000 non-null  float64\n",
      " 15  items_quantity      10000 non-null  int64  \n",
      " 16  all_revenue         10000 non-null  float64\n",
      " 17  all_orders          10000 non-null  int64  \n",
      " 18  recency             10000 non-null  int64  \n",
      " 19  marketing_source    10000 non-null  object \n",
      "dtypes: float64(2), int64(3), object(15)\n",
      "memory usage: 10.8 MB\n"
     ]
    }
   ],
   "source": [
    "memory_before = df.memory_usage(deep=True).sum()\n",
    "\n",
    "df.info(memory_usage='deep')"
   ]
  },
  {
   "attachments": {},
   "cell_type": "markdown",
   "metadata": {},
   "source": [
    "A partir dos metadados e olhando para os dados, podemos perceber que:\n",
    "- As colunas `id`, `name_hash`, `email_hash`, `address_hash` estão relacionadas a identificação do usuário, e não são relevantes para a análise;"
   ]
  },
  {
   "cell_type": "code",
   "execution_count": 177,
   "metadata": {},
   "outputs": [],
   "source": [
    "df.drop(columns=[\n",
    "    'id', 'name_hash', 'email_hash', 'address_hash'\n",
    "], inplace=True)"
   ]
  },
  {
   "attachments": {},
   "cell_type": "markdown",
   "metadata": {},
   "source": [
    "Separamos as colunas relacionadas a data, convertendo para o tipo `datetime`."
   ]
  },
  {
   "cell_type": "code",
   "execution_count": 178,
   "metadata": {},
   "outputs": [],
   "source": [
    "date_columns = ['created_at', 'updated_at', 'deleted_at', 'birth_date', 'last_date_purchase']\n",
    "\n",
    "for item in date_columns:\n",
    "    df[item] = pd.to_datetime(df[item], format='%m/%d/%y %I:%M %p')"
   ]
  },
  {
   "attachments": {},
   "cell_type": "markdown",
   "metadata": {},
   "source": [
    "Inicialmente foi verificado que os valores `int64` poderiam ser convertidos em `int16` e `int8`."
   ]
  },
  {
   "cell_type": "code",
   "execution_count": 179,
   "metadata": {},
   "outputs": [],
   "source": [
    "for item in df.select_dtypes(include=['int64']).columns:\n",
    "    aux = (df[item].astype('int8') == df[item]).unique()\n",
    "    if len(aux) == 1:\n",
    "        df[item] = df[item].astype('int8')\n",
    "    else:\n",
    "        df[item] = df[item].astype('int16')\n",
    "del aux"
   ]
  },
  {
   "attachments": {},
   "cell_type": "markdown",
   "metadata": {},
   "source": [
    "Análogo para os valores `float64` que poderiam ser convertidos em `float32` sem perda de informação."
   ]
  },
  {
   "cell_type": "code",
   "execution_count": 180,
   "metadata": {},
   "outputs": [],
   "source": [
    "for item in df.select_dtypes(include=['float64']).columns:\n",
    "    aux = np.allclose(df[item].astype('float32'), df[item])\n",
    "    if aux:\n",
    "        df[item] = df[item].astype('float32')\n",
    "del aux"
   ]
  },
  {
   "attachments": {},
   "cell_type": "markdown",
   "metadata": {},
   "source": [
    "Foi analisado também a possibilidade de converter as colunas `object` para `category`, mas nem todas as colunas poderiam ter essa conversão devido ao tamanho do dataframe."
   ]
  },
  {
   "cell_type": "code",
   "execution_count": 181,
   "metadata": {},
   "outputs": [
    {
     "data": {
      "text/plain": [
       "status                 3\n",
       "marketing_source       6\n",
       "state                 27\n",
       "neighborhood         482\n",
       "city                2406\n",
       "version             2905\n",
       "dtype: int64"
      ]
     },
     "execution_count": 181,
     "metadata": {},
     "output_type": "execute_result"
    }
   ],
   "source": [
    "df.select_dtypes(include=['object']).nunique().sort_values(ascending=True)"
   ]
  },
  {
   "cell_type": "code",
   "execution_count": 182,
   "metadata": {},
   "outputs": [],
   "source": [
    "to_cat = df.select_dtypes(include=['object']).nunique().sort_values(ascending=True)[:3].index\n",
    "\n",
    "for item in to_cat:\n",
    "    df[item] = df[item].astype('category')"
   ]
  },
  {
   "cell_type": "code",
   "execution_count": 183,
   "metadata": {},
   "outputs": [
    {
     "name": "stdout",
     "output_type": "stream",
     "text": [
      "<class 'pandas.core.frame.DataFrame'>\n",
      "RangeIndex: 10000 entries, 0 to 9999\n",
      "Data columns (total 16 columns):\n",
      " #   Column              Non-Null Count  Dtype         \n",
      "---  ------              --------------  -----         \n",
      " 0   created_at          10000 non-null  datetime64[ns]\n",
      " 1   updated_at          10000 non-null  datetime64[ns]\n",
      " 2   deleted_at          505 non-null    datetime64[ns]\n",
      " 3   birth_date          10000 non-null  datetime64[ns]\n",
      " 4   status              10000 non-null  category      \n",
      " 5   version             10000 non-null  object        \n",
      " 6   city                10000 non-null  object        \n",
      " 7   state               10000 non-null  category      \n",
      " 8   neighborhood        10000 non-null  object        \n",
      " 9   last_date_purchase  10000 non-null  datetime64[ns]\n",
      " 10  average_ticket      10000 non-null  float32       \n",
      " 11  items_quantity      10000 non-null  int8          \n",
      " 12  all_revenue         10000 non-null  float32       \n",
      " 13  all_orders          10000 non-null  int8          \n",
      " 14  recency             10000 non-null  int16         \n",
      " 15  marketing_source    10000 non-null  category      \n",
      "dtypes: category(3), datetime64[ns](5), float32(2), int16(1), int8(2), object(3)\n",
      "memory usage: 2.6 MB\n"
     ]
    }
   ],
   "source": [
    "df.info(memory_usage='deep')"
   ]
  },
  {
   "cell_type": "code",
   "execution_count": 184,
   "metadata": {},
   "outputs": [],
   "source": [
    "memory_after = df.memory_usage(deep=True).sum()"
   ]
  },
  {
   "cell_type": "code",
   "execution_count": 185,
   "metadata": {},
   "outputs": [],
   "source": [
    "def bytes_to_megabytes(num):\n",
    "    return round(num / 1024**2, 2)\n",
    "\n",
    "memory_before, memory_after = bytes_to_megabytes(memory_before), bytes_to_megabytes(memory_after)\n",
    "del bytes_to_megabytes"
   ]
  },
  {
   "attachments": {},
   "cell_type": "markdown",
   "metadata": {},
   "source": [
    "Por fim temos um grande ganho de memória."
   ]
  },
  {
   "cell_type": "code",
   "execution_count": 186,
   "metadata": {},
   "outputs": [
    {
     "name": "stdout",
     "output_type": "stream",
     "text": [
      "Antes do tratamento: 10.81 mb\n",
      "Depois do tratamento: 2.64 mb\n",
      "Diferença bruta: 8.17 mb\n",
      "Diferença percentual: 75.58%\n"
     ]
    }
   ],
   "source": [
    "print(f'Antes do tratamento: {memory_before} mb')\n",
    "print(f'Depois do tratamento: {memory_after} mb')\n",
    "print(f'Diferença bruta: {memory_before - memory_after} mb')\n",
    "print(f'Diferença percentual: {(memory_before - memory_after) / memory_before * 100:.2f}%')"
   ]
  },
  {
   "attachments": {},
   "cell_type": "markdown",
   "metadata": {},
   "source": [
    "E por fim, salvamos o dataframe em um arquivo `pickle` para otimizar o carregamento dos dados."
   ]
  },
  {
   "cell_type": "code",
   "execution_count": 187,
   "metadata": {},
   "outputs": [],
   "source": [
    "df.to_pickle('../datasets/processed/data-test-analytics.pkl')"
   ]
  }
 ],
 "metadata": {
  "kernelspec": {
   "display_name": "base",
   "language": "python",
   "name": "python3"
  },
  "language_info": {
   "codemirror_mode": {
    "name": "ipython",
    "version": 3
   },
   "file_extension": ".py",
   "mimetype": "text/x-python",
   "name": "python",
   "nbconvert_exporter": "python",
   "pygments_lexer": "ipython3",
   "version": "3.11.3"
  },
  "orig_nbformat": 4
 },
 "nbformat": 4,
 "nbformat_minor": 2
}
