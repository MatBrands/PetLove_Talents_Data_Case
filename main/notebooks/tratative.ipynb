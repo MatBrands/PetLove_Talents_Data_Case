{
 "cells": [
  {
   "attachments": {},
   "cell_type": "markdown",
   "metadata": {},
   "source": [
    "# Pré processamento dos dados"
   ]
  },
  {
   "attachments": {},
   "cell_type": "markdown",
   "metadata": {},
   "source": [
    "## Imports"
   ]
  },
  {
   "cell_type": "code",
   "execution_count": 84,
   "metadata": {},
   "outputs": [],
   "source": [
    "import numpy as np\n",
    "import pandas as pd"
   ]
  },
  {
   "attachments": {},
   "cell_type": "markdown",
   "metadata": {},
   "source": [
    "## Análise superficial dos dados"
   ]
  },
  {
   "cell_type": "code",
   "execution_count": 85,
   "metadata": {},
   "outputs": [
    {
     "data": {
      "text/html": [
       "<div>\n",
       "<style scoped>\n",
       "    .dataframe tbody tr th:only-of-type {\n",
       "        vertical-align: middle;\n",
       "    }\n",
       "\n",
       "    .dataframe tbody tr th {\n",
       "        vertical-align: top;\n",
       "    }\n",
       "\n",
       "    .dataframe thead th {\n",
       "        text-align: right;\n",
       "    }\n",
       "</style>\n",
       "<table border=\"1\" class=\"dataframe\">\n",
       "  <thead>\n",
       "    <tr style=\"text-align: right;\">\n",
       "      <th></th>\n",
       "      <th>id</th>\n",
       "      <th>created_at</th>\n",
       "      <th>updated_at</th>\n",
       "      <th>deleted_at</th>\n",
       "      <th>name_hash</th>\n",
       "      <th>email_hash</th>\n",
       "      <th>address_hash</th>\n",
       "      <th>birth_date</th>\n",
       "      <th>status</th>\n",
       "      <th>version</th>\n",
       "      <th>city</th>\n",
       "      <th>state</th>\n",
       "      <th>neighborhood</th>\n",
       "      <th>last_date_purchase</th>\n",
       "      <th>average_ticket</th>\n",
       "      <th>items_quantity</th>\n",
       "      <th>all_revenue</th>\n",
       "      <th>all_orders</th>\n",
       "      <th>recency</th>\n",
       "      <th>marketing_source</th>\n",
       "    </tr>\n",
       "  </thead>\n",
       "  <tbody>\n",
       "    <tr>\n",
       "      <th>0</th>\n",
       "      <td>8bf7960e-3b93-468b-856e-6c6c5b56f52b</td>\n",
       "      <td>08/15/17 07:05 AM</td>\n",
       "      <td>01/14/21 11:23 AM</td>\n",
       "      <td>NaN</td>\n",
       "      <td>312d206168a318614897e8ccac43bff9</td>\n",
       "      <td>83eb3aed9a44377df80ce876dce92c9a</td>\n",
       "      <td>8b4bfaa0cbc41a16f46da15ddcd6a907</td>\n",
       "      <td>07/10/74 12:00 AM</td>\n",
       "      <td>active</td>\n",
       "      <td>2.31.7</td>\n",
       "      <td>Peixoto da Praia</td>\n",
       "      <td>AM</td>\n",
       "      <td>Aparecida 7ª Seção</td>\n",
       "      <td>01/14/21 11:23 AM</td>\n",
       "      <td>151.142942</td>\n",
       "      <td>10</td>\n",
       "      <td>906.857651</td>\n",
       "      <td>6</td>\n",
       "      <td>35</td>\n",
       "      <td>crm</td>\n",
       "    </tr>\n",
       "    <tr>\n",
       "      <th>1</th>\n",
       "      <td>a39535b5-4647-4680-b4f6-3aed57c1f1ff</td>\n",
       "      <td>12/31/19 09:53 PM</td>\n",
       "      <td>01/08/21 11:23 AM</td>\n",
       "      <td>NaN</td>\n",
       "      <td>de448fcb47d0d6a873b2eef52b5ee595</td>\n",
       "      <td>72678bb35e2ac84ed373e81dd9dca28c</td>\n",
       "      <td>22f1cfa1847f38da3f3cb114dd2b9247</td>\n",
       "      <td>07/06/40 12:00 AM</td>\n",
       "      <td>paused</td>\n",
       "      <td>3.30.12</td>\n",
       "      <td>Fernandes</td>\n",
       "      <td>RR</td>\n",
       "      <td>Santa Isabel</td>\n",
       "      <td>01/08/21 11:23 AM</td>\n",
       "      <td>236.991790</td>\n",
       "      <td>4</td>\n",
       "      <td>236.991790</td>\n",
       "      <td>1</td>\n",
       "      <td>41</td>\n",
       "      <td>organic_search</td>\n",
       "    </tr>\n",
       "    <tr>\n",
       "      <th>2</th>\n",
       "      <td>dc067cd2-c021-42bd-8c0e-beb267280e66</td>\n",
       "      <td>03/07/19 11:46 PM</td>\n",
       "      <td>01/07/21 11:23 AM</td>\n",
       "      <td>NaN</td>\n",
       "      <td>cb09e447ddc38283373d56bb46498e6a</td>\n",
       "      <td>668f4ee9add29c7bd02c485f1b7509e3</td>\n",
       "      <td>6cb47446a086ee6483b3eb954f11467a</td>\n",
       "      <td>03/18/63 12:00 AM</td>\n",
       "      <td>active</td>\n",
       "      <td>3.28.9</td>\n",
       "      <td>Lopes</td>\n",
       "      <td>RR</td>\n",
       "      <td>Estrela</td>\n",
       "      <td>01/07/21 11:23 AM</td>\n",
       "      <td>211.955597</td>\n",
       "      <td>13</td>\n",
       "      <td>2331.511572</td>\n",
       "      <td>11</td>\n",
       "      <td>42</td>\n",
       "      <td>organic_search</td>\n",
       "    </tr>\n",
       "    <tr>\n",
       "      <th>3</th>\n",
       "      <td>b5e4caeb-3a9b-49ed-aa33-5acd06b162c1</td>\n",
       "      <td>07/21/18 10:17 AM</td>\n",
       "      <td>01/10/21 11:23 AM</td>\n",
       "      <td>NaN</td>\n",
       "      <td>52593437a405b11b3557170680ef80c8</td>\n",
       "      <td>d3fb45188d95c8d7cc49da5b4f727c86</td>\n",
       "      <td>0a6f0c54db1e6f19347f96b50f8092a4</td>\n",
       "      <td>11/21/80 12:00 AM</td>\n",
       "      <td>active</td>\n",
       "      <td>3.34.3</td>\n",
       "      <td>Campos do Campo</td>\n",
       "      <td>PE</td>\n",
       "      <td>Confisco</td>\n",
       "      <td>01/10/21 11:23 AM</td>\n",
       "      <td>204.113227</td>\n",
       "      <td>8</td>\n",
       "      <td>1224.679359</td>\n",
       "      <td>6</td>\n",
       "      <td>39</td>\n",
       "      <td>organic_search</td>\n",
       "    </tr>\n",
       "    <tr>\n",
       "      <th>4</th>\n",
       "      <td>d4ff61fc-f008-4e19-b8ae-bd70cfa3ae27</td>\n",
       "      <td>06/08/18 12:09 PM</td>\n",
       "      <td>01/18/21 11:23 AM</td>\n",
       "      <td>NaN</td>\n",
       "      <td>dbda4b778a966c21904238ed2d2005db</td>\n",
       "      <td>a0f76bc49b4c43327b536da6e1a1465e</td>\n",
       "      <td>143b9f169b4fa1692f6d79b5682169b5</td>\n",
       "      <td>07/07/59 12:00 AM</td>\n",
       "      <td>active</td>\n",
       "      <td>3.19.8</td>\n",
       "      <td>das Neves</td>\n",
       "      <td>RJ</td>\n",
       "      <td>Vila Suzana Segunda Seção</td>\n",
       "      <td>01/18/21 11:23 AM</td>\n",
       "      <td>252.940997</td>\n",
       "      <td>9</td>\n",
       "      <td>2023.527980</td>\n",
       "      <td>8</td>\n",
       "      <td>31</td>\n",
       "      <td>crm</td>\n",
       "    </tr>\n",
       "  </tbody>\n",
       "</table>\n",
       "</div>"
      ],
      "text/plain": [
       "                                     id         created_at         updated_at   \n",
       "0  8bf7960e-3b93-468b-856e-6c6c5b56f52b  08/15/17 07:05 AM  01/14/21 11:23 AM  \\\n",
       "1  a39535b5-4647-4680-b4f6-3aed57c1f1ff  12/31/19 09:53 PM  01/08/21 11:23 AM   \n",
       "2  dc067cd2-c021-42bd-8c0e-beb267280e66  03/07/19 11:46 PM  01/07/21 11:23 AM   \n",
       "3  b5e4caeb-3a9b-49ed-aa33-5acd06b162c1  07/21/18 10:17 AM  01/10/21 11:23 AM   \n",
       "4  d4ff61fc-f008-4e19-b8ae-bd70cfa3ae27  06/08/18 12:09 PM  01/18/21 11:23 AM   \n",
       "\n",
       "  deleted_at                         name_hash   \n",
       "0        NaN  312d206168a318614897e8ccac43bff9  \\\n",
       "1        NaN  de448fcb47d0d6a873b2eef52b5ee595   \n",
       "2        NaN  cb09e447ddc38283373d56bb46498e6a   \n",
       "3        NaN  52593437a405b11b3557170680ef80c8   \n",
       "4        NaN  dbda4b778a966c21904238ed2d2005db   \n",
       "\n",
       "                         email_hash                      address_hash   \n",
       "0  83eb3aed9a44377df80ce876dce92c9a  8b4bfaa0cbc41a16f46da15ddcd6a907  \\\n",
       "1  72678bb35e2ac84ed373e81dd9dca28c  22f1cfa1847f38da3f3cb114dd2b9247   \n",
       "2  668f4ee9add29c7bd02c485f1b7509e3  6cb47446a086ee6483b3eb954f11467a   \n",
       "3  d3fb45188d95c8d7cc49da5b4f727c86  0a6f0c54db1e6f19347f96b50f8092a4   \n",
       "4  a0f76bc49b4c43327b536da6e1a1465e  143b9f169b4fa1692f6d79b5682169b5   \n",
       "\n",
       "          birth_date  status  version               city state   \n",
       "0  07/10/74 12:00 AM  active   2.31.7   Peixoto da Praia    AM  \\\n",
       "1  07/06/40 12:00 AM  paused  3.30.12          Fernandes    RR   \n",
       "2  03/18/63 12:00 AM  active   3.28.9              Lopes    RR   \n",
       "3  11/21/80 12:00 AM  active   3.34.3    Campos do Campo    PE   \n",
       "4  07/07/59 12:00 AM  active   3.19.8          das Neves    RJ   \n",
       "\n",
       "                neighborhood last_date_purchase  average_ticket   \n",
       "0         Aparecida 7ª Seção  01/14/21 11:23 AM      151.142942  \\\n",
       "1               Santa Isabel  01/08/21 11:23 AM      236.991790   \n",
       "2                    Estrela  01/07/21 11:23 AM      211.955597   \n",
       "3                   Confisco  01/10/21 11:23 AM      204.113227   \n",
       "4  Vila Suzana Segunda Seção  01/18/21 11:23 AM      252.940997   \n",
       "\n",
       "   items_quantity  all_revenue  all_orders  recency marketing_source  \n",
       "0              10   906.857651           6       35              crm  \n",
       "1               4   236.991790           1       41   organic_search  \n",
       "2              13  2331.511572          11       42   organic_search  \n",
       "3               8  1224.679359           6       39   organic_search  \n",
       "4               9  2023.527980           8       31              crm  "
      ]
     },
     "execution_count": 85,
     "metadata": {},
     "output_type": "execute_result"
    }
   ],
   "source": [
    "df = pd.read_csv('../datasets/raw/data-test-analytics.csv')\n",
    "df.head(5)"
   ]
  },
  {
   "attachments": {},
   "cell_type": "markdown",
   "metadata": {},
   "source": [
    "Podemos otimizar o uso de memória do dataframe, convertendo as colunas."
   ]
  },
  {
   "cell_type": "code",
   "execution_count": 86,
   "metadata": {},
   "outputs": [
    {
     "name": "stdout",
     "output_type": "stream",
     "text": [
      "<class 'pandas.core.frame.DataFrame'>\n",
      "RangeIndex: 10000 entries, 0 to 9999\n",
      "Data columns (total 20 columns):\n",
      " #   Column              Non-Null Count  Dtype  \n",
      "---  ------              --------------  -----  \n",
      " 0   id                  10000 non-null  object \n",
      " 1   created_at          10000 non-null  object \n",
      " 2   updated_at          10000 non-null  object \n",
      " 3   deleted_at          505 non-null    object \n",
      " 4   name_hash           10000 non-null  object \n",
      " 5   email_hash          10000 non-null  object \n",
      " 6   address_hash        10000 non-null  object \n",
      " 7   birth_date          10000 non-null  object \n",
      " 8   status              10000 non-null  object \n",
      " 9   version             10000 non-null  object \n",
      " 10  city                10000 non-null  object \n",
      " 11  state               10000 non-null  object \n",
      " 12  neighborhood        10000 non-null  object \n",
      " 13  last_date_purchase  10000 non-null  object \n",
      " 14  average_ticket      10000 non-null  float64\n",
      " 15  items_quantity      10000 non-null  int64  \n",
      " 16  all_revenue         10000 non-null  float64\n",
      " 17  all_orders          10000 non-null  int64  \n",
      " 18  recency             10000 non-null  int64  \n",
      " 19  marketing_source    10000 non-null  object \n",
      "dtypes: float64(2), int64(3), object(15)\n",
      "memory usage: 10.8 MB\n"
     ]
    }
   ],
   "source": [
    "memory_before = df.memory_usage(deep=True).sum()\n",
    "\n",
    "df.info(memory_usage='deep')"
   ]
  },
  {
   "attachments": {},
   "cell_type": "markdown",
   "metadata": {},
   "source": [
    "A partir dos metadados e olhando para os dados, podemos perceber que:\n",
    "- As colunas `id`, `name_hash`, `email_hash`, `address_hash` estão relacionadas a identificação do usuário, e não são relevantes para a análise;"
   ]
  },
  {
   "cell_type": "code",
   "execution_count": 87,
   "metadata": {},
   "outputs": [],
   "source": [
    "df.drop(columns=[\n",
    "    'id', 'name_hash', 'email_hash', 'address_hash'\n",
    "], inplace=True)"
   ]
  },
  {
   "attachments": {},
   "cell_type": "markdown",
   "metadata": {},
   "source": [
    "Separamos as colunas relacionadas a data, convertendo para o tipo `datetime`."
   ]
  },
  {
   "cell_type": "code",
   "execution_count": 88,
   "metadata": {},
   "outputs": [],
   "source": [
    "date_columns = ['created_at', 'updated_at', 'deleted_at', 'last_date_purchase']\n",
    "\n",
    "for item in date_columns:\n",
    "    df[item] = pd.to_datetime(df[item], format='%m/%d/%y %I:%M %p')"
   ]
  },
  {
   "attachments": {},
   "cell_type": "markdown",
   "metadata": {},
   "source": [
    "Encontramos um pequeno problema relacionado a data de nascimento dos usuários, onde alguns valores estão com o ano 40, o que na formatação padrão do datetime %y converteria para 2040, o que é impossível. Para resolver esse problema, utilizamos uma função para modificar a data."
   ]
  },
  {
   "cell_type": "code",
   "execution_count": 89,
   "metadata": {},
   "outputs": [],
   "source": [
    "def formatar_data(data):\n",
    "    ano = int(data[6:8])\n",
    "    if ano < 23:\n",
    "        data = data[:6] + '20' + data[6:]\n",
    "    else:\n",
    "        data = data[:6] + '19' + data[6:]\n",
    "        \n",
    "    return data"
   ]
  },
  {
   "cell_type": "code",
   "execution_count": 90,
   "metadata": {},
   "outputs": [],
   "source": [
    "df.birth_date = df.birth_date.apply(formatar_data)"
   ]
  },
  {
   "cell_type": "code",
   "execution_count": 91,
   "metadata": {},
   "outputs": [],
   "source": [
    "df.birth_date = pd.to_datetime(df.birth_date, format='%m/%d/%Y %I:%M %p')"
   ]
  },
  {
   "attachments": {},
   "cell_type": "markdown",
   "metadata": {},
   "source": [
    "Inicialmente foi verificado que os valores `int64` poderiam ser convertidos em `int16` e `int8`."
   ]
  },
  {
   "cell_type": "code",
   "execution_count": 92,
   "metadata": {},
   "outputs": [],
   "source": [
    "for item in df.select_dtypes(include=['int64']).columns:\n",
    "    aux = (df[item].astype('int8') == df[item]).unique()\n",
    "    if len(aux) == 1:\n",
    "        df[item] = df[item].astype('int8')\n",
    "    else:\n",
    "        df[item] = df[item].astype('int16')\n",
    "del aux"
   ]
  },
  {
   "attachments": {},
   "cell_type": "markdown",
   "metadata": {},
   "source": [
    "Análogo para os valores `float64` que poderiam ser convertidos em `float32` sem perda de informação."
   ]
  },
  {
   "cell_type": "code",
   "execution_count": 93,
   "metadata": {},
   "outputs": [],
   "source": [
    "for item in df.select_dtypes(include=['float64']).columns:\n",
    "    aux = np.allclose(df[item].astype('float32'), df[item])\n",
    "    if aux:\n",
    "        df[item] = df[item].astype('float32')\n",
    "del aux"
   ]
  },
  {
   "attachments": {},
   "cell_type": "markdown",
   "metadata": {},
   "source": [
    "Foi analisado também a possibilidade de converter as colunas `object` para `category`, mas nem todas as colunas poderiam ter essa conversão devido ao tamanho do dataframe."
   ]
  },
  {
   "cell_type": "code",
   "execution_count": 94,
   "metadata": {},
   "outputs": [
    {
     "data": {
      "text/plain": [
       "status                 3\n",
       "marketing_source       6\n",
       "state                 27\n",
       "neighborhood         482\n",
       "city                2406\n",
       "version             2905\n",
       "dtype: int64"
      ]
     },
     "execution_count": 94,
     "metadata": {},
     "output_type": "execute_result"
    }
   ],
   "source": [
    "df.select_dtypes(include=['object']).nunique().sort_values(ascending=True)"
   ]
  },
  {
   "cell_type": "code",
   "execution_count": 95,
   "metadata": {},
   "outputs": [],
   "source": [
    "to_cat = df.select_dtypes(include=['object']).nunique().sort_values(ascending=True)[:3].index\n",
    "\n",
    "for item in to_cat:\n",
    "    df[item] = df[item].astype('category')"
   ]
  },
  {
   "cell_type": "code",
   "execution_count": 96,
   "metadata": {},
   "outputs": [
    {
     "name": "stdout",
     "output_type": "stream",
     "text": [
      "<class 'pandas.core.frame.DataFrame'>\n",
      "RangeIndex: 10000 entries, 0 to 9999\n",
      "Data columns (total 16 columns):\n",
      " #   Column              Non-Null Count  Dtype         \n",
      "---  ------              --------------  -----         \n",
      " 0   created_at          10000 non-null  datetime64[ns]\n",
      " 1   updated_at          10000 non-null  datetime64[ns]\n",
      " 2   deleted_at          505 non-null    datetime64[ns]\n",
      " 3   birth_date          10000 non-null  datetime64[ns]\n",
      " 4   status              10000 non-null  category      \n",
      " 5   version             10000 non-null  object        \n",
      " 6   city                10000 non-null  object        \n",
      " 7   state               10000 non-null  category      \n",
      " 8   neighborhood        10000 non-null  object        \n",
      " 9   last_date_purchase  10000 non-null  datetime64[ns]\n",
      " 10  average_ticket      10000 non-null  float32       \n",
      " 11  items_quantity      10000 non-null  int8          \n",
      " 12  all_revenue         10000 non-null  float32       \n",
      " 13  all_orders          10000 non-null  int8          \n",
      " 14  recency             10000 non-null  int16         \n",
      " 15  marketing_source    10000 non-null  category      \n",
      "dtypes: category(3), datetime64[ns](5), float32(2), int16(1), int8(2), object(3)\n",
      "memory usage: 2.6 MB\n"
     ]
    }
   ],
   "source": [
    "df.info(memory_usage='deep')"
   ]
  },
  {
   "cell_type": "code",
   "execution_count": 97,
   "metadata": {},
   "outputs": [],
   "source": [
    "memory_after = df.memory_usage(deep=True).sum()"
   ]
  },
  {
   "cell_type": "code",
   "execution_count": 98,
   "metadata": {},
   "outputs": [],
   "source": [
    "def bytes_to_megabytes(num):\n",
    "    return round(num / 1024**2, 2)\n",
    "\n",
    "memory_before, memory_after = bytes_to_megabytes(memory_before), bytes_to_megabytes(memory_after)\n",
    "del bytes_to_megabytes"
   ]
  },
  {
   "attachments": {},
   "cell_type": "markdown",
   "metadata": {},
   "source": [
    "Por fim temos um grande ganho de memória."
   ]
  },
  {
   "cell_type": "code",
   "execution_count": 99,
   "metadata": {},
   "outputs": [
    {
     "name": "stdout",
     "output_type": "stream",
     "text": [
      "Antes do tratamento: 10.81 mb\n",
      "Depois do tratamento: 2.64 mb\n",
      "Diferença bruta: 8.17 mb\n",
      "Diferença percentual: 75.58%\n"
     ]
    }
   ],
   "source": [
    "print(f'Antes do tratamento: {memory_before} mb')\n",
    "print(f'Depois do tratamento: {memory_after} mb')\n",
    "print(f'Diferença bruta: {memory_before - memory_after} mb')\n",
    "print(f'Diferença percentual: {(memory_before - memory_after) / memory_before * 100:.2f}%')"
   ]
  },
  {
   "attachments": {},
   "cell_type": "markdown",
   "metadata": {},
   "source": [
    "E por fim, salvamos o dataframe em um arquivo `pickle` para otimizar o carregamento dos dados."
   ]
  },
  {
   "cell_type": "code",
   "execution_count": 100,
   "metadata": {},
   "outputs": [],
   "source": [
    "df.to_pickle('../datasets/processed/data-test-analytics.pkl')"
   ]
  }
 ],
 "metadata": {
  "kernelspec": {
   "display_name": "base",
   "language": "python",
   "name": "python3"
  },
  "language_info": {
   "codemirror_mode": {
    "name": "ipython",
    "version": 3
   },
   "file_extension": ".py",
   "mimetype": "text/x-python",
   "name": "python",
   "nbconvert_exporter": "python",
   "pygments_lexer": "ipython3",
   "version": "3.11.3"
  },
  "orig_nbformat": 4
 },
 "nbformat": 4,
 "nbformat_minor": 2
}
